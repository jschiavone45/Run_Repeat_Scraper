{
 "cells": [
  {
   "cell_type": "code",
   "execution_count": 129,
   "metadata": {},
   "outputs": [],
   "source": [
    "import numpy as np\n",
    "import pandas as pd\n",
    "import re\n",
    "from matplotlib import pyplot as plt\n",
    "import seaborn as sns\n",
    "from datetime import datetime"
   ]
  },
  {
   "cell_type": "code",
   "execution_count": 293,
   "metadata": {},
   "outputs": [],
   "source": [
    "df = pd.read_csv('running_shoes.csv')\n"
   ]
  },
  {
   "cell_type": "code",
   "execution_count": 294,
   "metadata": {},
   "outputs": [
    {
     "data": {
      "text/html": [
       "<div>\n",
       "<style scoped>\n",
       "    .dataframe tbody tr th:only-of-type {\n",
       "        vertical-align: middle;\n",
       "    }\n",
       "\n",
       "    .dataframe tbody tr th {\n",
       "        vertical-align: top;\n",
       "    }\n",
       "\n",
       "    .dataframe thead th {\n",
       "        text-align: right;\n",
       "    }\n",
       "</style>\n",
       "<table border=\"1\" class=\"dataframe\">\n",
       "  <thead>\n",
       "    <tr style=\"text-align: right;\">\n",
       "      <th></th>\n",
       "      <th>product</th>\n",
       "      <th>brand</th>\n",
       "      <th>core_score</th>\n",
       "      <th>expert_score</th>\n",
       "      <th>reviews</th>\n",
       "      <th>retail_price</th>\n",
       "      <th>sale_price</th>\n",
       "      <th>terrain</th>\n",
       "      <th>arch_support</th>\n",
       "      <th>weight_men</th>\n",
       "      <th>weight_women</th>\n",
       "      <th>heel_to_toe_men</th>\n",
       "      <th>heel_to_toe_women</th>\n",
       "      <th>release_date</th>\n",
       "      <th>width</th>\n",
       "      <th>update</th>\n",
       "      <th>url</th>\n",
       "      <th>summary</th>\n",
       "    </tr>\n",
       "  </thead>\n",
       "  <tbody>\n",
       "    <tr>\n",
       "      <th>0</th>\n",
       "      <td>Adidas Ultraboost 19</td>\n",
       "      <td>Adidas</td>\n",
       "      <td>95.0</td>\n",
       "      <td>85.0</td>\n",
       "      <td>5956.0</td>\n",
       "      <td>$180</td>\n",
       "      <td>$99 (save 45%)</td>\n",
       "      <td>Road</td>\n",
       "      <td>Neutral</td>\n",
       "      <td>Men: 10.9oz</td>\n",
       "      <td>Women: 9.5oz</td>\n",
       "      <td>Men: 10mm</td>\n",
       "      <td>Women: 10mm</td>\n",
       "      <td>Feb 2019</td>\n",
       "      <td>Normal | Narrow, Normal</td>\n",
       "      <td>NaN</td>\n",
       "      <td>https://runrepeat.com/adidas-ultraboost-19</td>\n",
       "      <td>6 reasons to buy\\nMany testers believed that t...</td>\n",
       "    </tr>\n",
       "    <tr>\n",
       "      <th>1</th>\n",
       "      <td>Brooks Ghost 12</td>\n",
       "      <td>Brooks</td>\n",
       "      <td>96.0</td>\n",
       "      <td>88.0</td>\n",
       "      <td>1779.0</td>\n",
       "      <td>$130</td>\n",
       "      <td>$110 (save 15%)</td>\n",
       "      <td>Road, Treadmill</td>\n",
       "      <td>Neutral</td>\n",
       "      <td>Men: 10.4oz</td>\n",
       "      <td>Women: 9.3oz</td>\n",
       "      <td>Men: 12mm</td>\n",
       "      <td>Women: 12mm</td>\n",
       "      <td>Jul 2019</td>\n",
       "      <td>Narrow, Normal, Wide, X-Wide | Narrow, Normal...</td>\n",
       "      <td>NaN</td>\n",
       "      <td>https://runrepeat.com/brooks-ghost-12</td>\n",
       "      <td>6 reasons to buy\\nSeveral consumers welcome th...</td>\n",
       "    </tr>\n",
       "    <tr>\n",
       "      <th>2</th>\n",
       "      <td>Asics Gel Kayano 26</td>\n",
       "      <td>Asics</td>\n",
       "      <td>93.0</td>\n",
       "      <td>86.0</td>\n",
       "      <td>658.0</td>\n",
       "      <td>$160</td>\n",
       "      <td>$96 (save 49%)</td>\n",
       "      <td>Road</td>\n",
       "      <td>Stability</td>\n",
       "      <td>Men: 11.1oz</td>\n",
       "      <td>Women: 11.1oz</td>\n",
       "      <td>Men: 10mm</td>\n",
       "      <td>Women: 10mm</td>\n",
       "      <td>Jun 2019</td>\n",
       "      <td>Narrow, Normal, Wide, X-Wide | Normal, Wide</td>\n",
       "      <td>Asics Gel Kayano 27</td>\n",
       "      <td>https://runrepeat.com/asics-gel-kayano-26</td>\n",
       "      <td>8 reasons to buy\\nMost testers commend the cus...</td>\n",
       "    </tr>\n",
       "    <tr>\n",
       "      <th>3</th>\n",
       "      <td>Nike Air Zoom Pegasus 36</td>\n",
       "      <td>Nike</td>\n",
       "      <td>92.0</td>\n",
       "      <td>88.0</td>\n",
       "      <td>318.0</td>\n",
       "      <td>$120</td>\n",
       "      <td>$75 (save 99%)</td>\n",
       "      <td>Road, Treadmill</td>\n",
       "      <td>Neutral</td>\n",
       "      <td>Men: 10oz</td>\n",
       "      <td>Women: 8oz</td>\n",
       "      <td>Men: 10mm</td>\n",
       "      <td>Women: 10mm</td>\n",
       "      <td>Jun 2019</td>\n",
       "      <td>Normal, Wide, X-Wide | Normal, Wide</td>\n",
       "      <td>Nike Air Zoom Pegasus 37</td>\n",
       "      <td>https://runrepeat.com/nike-air-zoom-pegasus-36</td>\n",
       "      <td>6 reasons to buy\\nSome people claimed that the...</td>\n",
       "    </tr>\n",
       "    <tr>\n",
       "      <th>4</th>\n",
       "      <td>Mizuno Wave Rider 23</td>\n",
       "      <td>Mizuno</td>\n",
       "      <td>95.0</td>\n",
       "      <td>88.0</td>\n",
       "      <td>366.0</td>\n",
       "      <td>$120</td>\n",
       "      <td>$72 (save 52%)</td>\n",
       "      <td>Road</td>\n",
       "      <td>Neutral</td>\n",
       "      <td>Men: 10.2oz</td>\n",
       "      <td>Women: 8.5oz</td>\n",
       "      <td>Men: 12mm</td>\n",
       "      <td>Women: 12mm</td>\n",
       "      <td>Aug 2019</td>\n",
       "      <td>Normal, Wide | Normal, Wide</td>\n",
       "      <td>NaN</td>\n",
       "      <td>https://runrepeat.com/mizuno-wave-rider-23</td>\n",
       "      <td>7 reasons to buy\\nThe redesigned upper of the ...</td>\n",
       "    </tr>\n",
       "  </tbody>\n",
       "</table>\n",
       "</div>"
      ],
      "text/plain": [
       "                    product    brand  core_score  expert_score  reviews  \\\n",
       "0      Adidas Ultraboost 19   Adidas        95.0          85.0   5956.0   \n",
       "1           Brooks Ghost 12   Brooks        96.0          88.0   1779.0   \n",
       "2       Asics Gel Kayano 26    Asics        93.0          86.0    658.0   \n",
       "3  Nike Air Zoom Pegasus 36     Nike        92.0          88.0    318.0   \n",
       "4      Mizuno Wave Rider 23   Mizuno        95.0          88.0    366.0   \n",
       "\n",
       "  retail_price       sale_price           terrain arch_support     weight_men  \\\n",
       "0         $180   $99 (save 45%)              Road      Neutral   Men: 10.9oz    \n",
       "1         $130  $110 (save 15%)   Road, Treadmill      Neutral   Men: 10.4oz    \n",
       "2         $160   $96 (save 49%)              Road    Stability   Men: 11.1oz    \n",
       "3         $120   $75 (save 99%)   Road, Treadmill      Neutral     Men: 10oz    \n",
       "4         $120   $72 (save 52%)              Road      Neutral   Men: 10.2oz    \n",
       "\n",
       "     weight_women heel_to_toe_men heel_to_toe_women release_date  \\\n",
       "0    Women: 9.5oz      Men: 10mm        Women: 10mm     Feb 2019   \n",
       "1    Women: 9.3oz      Men: 12mm        Women: 12mm     Jul 2019   \n",
       "2   Women: 11.1oz      Men: 10mm        Women: 10mm     Jun 2019   \n",
       "3      Women: 8oz      Men: 10mm        Women: 10mm     Jun 2019   \n",
       "4    Women: 8.5oz      Men: 12mm        Women: 12mm     Aug 2019   \n",
       "\n",
       "                                               width  \\\n",
       "0                            Normal | Narrow, Normal   \n",
       "1   Narrow, Normal, Wide, X-Wide | Narrow, Normal...   \n",
       "2        Narrow, Normal, Wide, X-Wide | Normal, Wide   \n",
       "3                Normal, Wide, X-Wide | Normal, Wide   \n",
       "4                        Normal, Wide | Normal, Wide   \n",
       "\n",
       "                      update                                             url  \\\n",
       "0                        NaN      https://runrepeat.com/adidas-ultraboost-19   \n",
       "1                        NaN           https://runrepeat.com/brooks-ghost-12   \n",
       "2        Asics Gel Kayano 27       https://runrepeat.com/asics-gel-kayano-26   \n",
       "3   Nike Air Zoom Pegasus 37  https://runrepeat.com/nike-air-zoom-pegasus-36   \n",
       "4                        NaN      https://runrepeat.com/mizuno-wave-rider-23   \n",
       "\n",
       "                                             summary  \n",
       "0  6 reasons to buy\\nMany testers believed that t...  \n",
       "1  6 reasons to buy\\nSeveral consumers welcome th...  \n",
       "2  8 reasons to buy\\nMost testers commend the cus...  \n",
       "3  6 reasons to buy\\nSome people claimed that the...  \n",
       "4  7 reasons to buy\\nThe redesigned upper of the ...  "
      ]
     },
     "execution_count": 294,
     "metadata": {},
     "output_type": "execute_result"
    }
   ],
   "source": [
    "df.head(5)\n"
   ]
  },
  {
   "cell_type": "code",
   "execution_count": 163,
   "metadata": {},
   "outputs": [
    {
     "data": {
      "text/plain": [
       "(array([  3.,   0.,   0.,   0.,   4.,  13.,  45., 213., 861., 317.]),\n",
       " array([10. , 18.8, 27.6, 36.4, 45.2, 54. , 62.8, 71.6, 80.4, 89.2, 98. ]),\n",
       " <a list of 10 Patch objects>)"
      ]
     },
     "execution_count": 163,
     "metadata": {},
     "output_type": "execute_result"
    },
    {
     "data": {
      "image/png": "[encoded data removed]",
      "text/plain": [
       "<Figure size 432x288 with 1 Axes>"
      ]
     },
     "metadata": {
      "needs_background": "light"
     },
     "output_type": "display_data"
    }
   ],
   "source": [
    "plt.hist(df['expert_score'])"
   ]
  },
  {
   "cell_type": "code",
   "execution_count": 139,
   "metadata": {},
   "outputs": [],
   "source": [
    "group = df.groupby('brand')"
   ]
  },
  {
   "cell_type": "code",
   "execution_count": 262,
   "metadata": {},
   "outputs": [
    {
     "data": {
      "text/plain": [
       "<matplotlib.collections.PathCollection at 0x7f09a02824d0>"
      ]
     },
     "execution_count": 262,
     "metadata": {},
     "output_type": "execute_result"
    },
    {
     "data": {
      "image/png": "[encoded data removed]",
      "text/plain": [
       "<Figure size 432x288 with 1 Axes>"
      ]
     },
     "metadata": {
      "needs_background": "light"
     },
     "output_type": "display_data"
    }
   ],
   "source": [
    "plt.scatter(df['expert_score'], df['core_score'], alpha=.1)"
   ]
  },
  {
   "cell_type": "code",
   "execution_count": 280,
   "metadata": {},
   "outputs": [
    {
     "data": {
      "text/plain": [
       "2023"
      ]
     },
     "execution_count": 280,
     "metadata": {},
     "output_type": "execute_result"
    }
   ],
   "source": [
    "#df.weight_men.count()"
   ]
  },
  {
   "cell_type": "code",
   "execution_count": 295,
   "metadata": {},
   "outputs": [],
   "source": [
    "# transforming column fields into numeric data types\n",
    "\n",
    "df['retail_price'] = df.retail_price.dropna().map(lambda s : re.findall(('\\d+'), s)).map(lambda l : int(l[0]))\n",
    "df['sale_price'] = df.sale_price.dropna().map(lambda s: re.findall(('\\d+'), s)).map(lambda l : int(l[0]))\n",
    "df['weight_men']= df.weight_men.dropna().map(lambda s: re.findall(('\\d*\\.?\\d'), s)).map(lambda l : float(l[0]))\n",
    "df['weight_women']=df.weight_women.dropna().map(lambda s: re.findall(('\\d*\\.?\\d'), s)).map(lambda l : float(l[0]))\n",
    "df['heel_to_toe_men'] = df.heel_to_toe_men.dropna().map(lambda s: re.findall(('\\d*\\.?\\d'), s)).map(lambda l : float(l[0])) \n",
    "df['heel_to_toe_women'] = df.heel_to_toe_women.dropna().map(lambda s: re.findall(('\\d*\\.?\\d'), s)).map(lambda l : float(l[0])) "
   ]
  },
  {
   "cell_type": "code",
   "execution_count": 272,
   "metadata": {},
   "outputs": [
    {
     "data": {
      "text/plain": [
       "<matplotlib.collections.PathCollection at 0x7f099ff81f90>"
      ]
     },
     "execution_count": 272,
     "metadata": {},
     "output_type": "execute_result"
    },
    {
     "data": {
      "image/png": "[encoded data removed]",
      "text/plain": [
       "<Figure size 432x288 with 1 Axes>"
      ]
     },
     "metadata": {
      "needs_background": "light"
     },
     "output_type": "display_data"
    }
   ],
   "source": [
    "plt.scatter(df['expert_score'], df['sale_price'], alpha=.1)"
   ]
  },
  {
   "cell_type": "code",
   "execution_count": 197,
   "metadata": {},
   "outputs": [
    {
     "name": "stdout",
     "output_type": "stream",
     "text": [
      " $100\n",
      "----------------------------------------------------------------------\n",
      " $105\n",
      "----------------------------------------------------------------------\n",
      " $110\n",
      "----------------------------------------------------------------------\n",
      " $115\n",
      "----------------------------------------------------------------------\n",
      " $120\n",
      "----------------------------------------------------------------------\n",
      " $125\n",
      "----------------------------------------------------------------------\n",
      " $130\n",
      "----------------------------------------------------------------------\n",
      " $135\n",
      "----------------------------------------------------------------------\n",
      " $140\n",
      "----------------------------------------------------------------------\n",
      " $145\n",
      "----------------------------------------------------------------------\n",
      " $146\n",
      "----------------------------------------------------------------------\n",
      " $150\n",
      "----------------------------------------------------------------------\n",
      " $155\n",
      "----------------------------------------------------------------------\n",
      " $160\n",
      "----------------------------------------------------------------------\n",
      " $165\n",
      "----------------------------------------------------------------------\n",
      " $170\n",
      "----------------------------------------------------------------------\n",
      " $175\n",
      "----------------------------------------------------------------------\n",
      " $180\n",
      "----------------------------------------------------------------------\n",
      " $185\n",
      "----------------------------------------------------------------------\n",
      " $190\n",
      "----------------------------------------------------------------------\n",
      " $195\n",
      "----------------------------------------------------------------------\n",
      " $199\n",
      "----------------------------------------------------------------------\n",
      " $200\n",
      "----------------------------------------------------------------------\n",
      " $210\n",
      "----------------------------------------------------------------------\n",
      " $215\n",
      "----------------------------------------------------------------------\n",
      " $225\n",
      "----------------------------------------------------------------------\n",
      " $250\n",
      "----------------------------------------------------------------------\n",
      " $275\n",
      "----------------------------------------------------------------------\n",
      " $350\n",
      "----------------------------------------------------------------------\n",
      " $40\n",
      "----------------------------------------------------------------------\n",
      " $45\n",
      "----------------------------------------------------------------------\n",
      " $50\n",
      "----------------------------------------------------------------------\n",
      " $55\n",
      "----------------------------------------------------------------------\n",
      " $60\n",
      "----------------------------------------------------------------------\n",
      " $65\n",
      "----------------------------------------------------------------------\n",
      " $70\n",
      "----------------------------------------------------------------------\n",
      " $75\n",
      "----------------------------------------------------------------------\n",
      " $76\n",
      "----------------------------------------------------------------------\n",
      " $79\n",
      "----------------------------------------------------------------------\n",
      " $80\n",
      "----------------------------------------------------------------------\n",
      " $82\n",
      "----------------------------------------------------------------------\n",
      " $85\n",
      "----------------------------------------------------------------------\n",
      " $89\n",
      "----------------------------------------------------------------------\n",
      " $90\n",
      "----------------------------------------------------------------------\n",
      " $95\n",
      "----------------------------------------------------------------------\n",
      " $99\n",
      "----------------------------------------------------------------------\n",
      "$100\n",
      "----------------------------------------------------------------------\n",
      "$110\n",
      "----------------------------------------------------------------------\n",
      "$115\n",
      "----------------------------------------------------------------------\n",
      "$117\n",
      "----------------------------------------------------------------------\n",
      "$120\n",
      "----------------------------------------------------------------------\n",
      "$125\n",
      "----------------------------------------------------------------------\n",
      "$130\n",
      "----------------------------------------------------------------------\n",
      "$135\n",
      "----------------------------------------------------------------------\n",
      "$139\n",
      "----------------------------------------------------------------------\n",
      "$140\n",
      "----------------------------------------------------------------------\n",
      "$145\n",
      "----------------------------------------------------------------------\n",
      "$150\n",
      "----------------------------------------------------------------------\n",
      "$155\n",
      "----------------------------------------------------------------------\n",
      "$156\n",
      "----------------------------------------------------------------------\n",
      "$160\n",
      "----------------------------------------------------------------------\n",
      "$165\n",
      "----------------------------------------------------------------------\n",
      "$170\n",
      "----------------------------------------------------------------------\n",
      "$175\n",
      "----------------------------------------------------------------------\n",
      "$180\n",
      "----------------------------------------------------------------------\n",
      "$190\n",
      "----------------------------------------------------------------------\n",
      "$200\n",
      "----------------------------------------------------------------------\n",
      "$210\n",
      "----------------------------------------------------------------------\n",
      "$220\n",
      "----------------------------------------------------------------------\n",
      "$230\n",
      "----------------------------------------------------------------------\n",
      "$240\n",
      "----------------------------------------------------------------------\n",
      "$250\n",
      "----------------------------------------------------------------------\n",
      "$299\n",
      "----------------------------------------------------------------------\n",
      "$300\n",
      "----------------------------------------------------------------------\n",
      "$40\n",
      "----------------------------------------------------------------------\n",
      "$46\n",
      "----------------------------------------------------------------------\n",
      "$55\n",
      "----------------------------------------------------------------------\n",
      "$60\n",
      "----------------------------------------------------------------------\n",
      "$65\n",
      "----------------------------------------------------------------------\n",
      "$70\n",
      "----------------------------------------------------------------------\n",
      "$75\n",
      "----------------------------------------------------------------------\n",
      "$80\n",
      "----------------------------------------------------------------------\n",
      "$82\n",
      "----------------------------------------------------------------------\n",
      "$85\n",
      "----------------------------------------------------------------------\n",
      "$90\n",
      "----------------------------------------------------------------------\n",
      "$95\n",
      "----------------------------------------------------------------------\n"
     ]
    }
   ],
   "source": [
    "for key, values in group2:\n",
    "    print(key) #this indicates the grouping\n",
    "    print('-'*70)\n",
    "    #print(values) #this is a dataframe for that \n",
    "    #print('\\n')"
   ]
  },
  {
   "cell_type": "code",
   "execution_count": null,
   "metadata": {},
   "outputs": [],
   "source": []
  }
 ],
 "metadata": {
  "kernelspec": {
   "display_name": "Python 3",
   "language": "python",
   "name": "python3"
  },
  "language_info": {
   "codemirror_mode": {
    "name": "ipython",
    "version": 3
   },
   "file_extension": ".py",
   "mimetype": "text/x-python",
   "name": "python",
   "nbconvert_exporter": "python",
   "pygments_lexer": "ipython3",
   "version": "3.7.6"
  }
 },
 "nbformat": 4,
 "nbformat_minor": 4
}
